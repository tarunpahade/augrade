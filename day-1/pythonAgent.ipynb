{
 "cells": [
  {
   "cell_type": "code",
   "execution_count": 3,
   "metadata": {},
   "outputs": [
    {
     "ename": "SyntaxError",
     "evalue": "invalid syntax (3787403300.py, line 1)",
     "output_type": "error",
     "traceback": [
      "\u001b[1;36m  Cell \u001b[1;32mIn[3], line 1\u001b[1;36m\u001b[0m\n\u001b[1;33m    anaconda install mistralai==1.0.0\u001b[0m\n\u001b[1;37m             ^\u001b[0m\n\u001b[1;31mSyntaxError\u001b[0m\u001b[1;31m:\u001b[0m invalid syntax\n"
     ]
    }
   ],
   "source": [
    "pip install mistralai==1.0.0"
   ]
  },
  {
   "cell_type": "code",
   "execution_count": 3,
   "metadata": {},
   "outputs": [
    {
     "ename": "ModuleNotFoundError",
     "evalue": "No module named 'mistralai'",
     "output_type": "error",
     "traceback": [
      "\u001b[1;31m---------------------------------------------------------------------------\u001b[0m",
      "\u001b[1;31mModuleNotFoundError\u001b[0m                       Traceback (most recent call last)",
      "Cell \u001b[1;32mIn[3], line 2\u001b[0m\n\u001b[0;32m      1\u001b[0m \u001b[38;5;28;01mimport\u001b[39;00m \u001b[38;5;21;01mos\u001b[39;00m\n\u001b[1;32m----> 2\u001b[0m \u001b[38;5;28;01mfrom\u001b[39;00m \u001b[38;5;21;01mmistralai\u001b[39;00m \u001b[38;5;28;01mimport\u001b[39;00m Mistral\n\u001b[0;32m      3\u001b[0m \u001b[38;5;28;01mimport\u001b[39;00m \u001b[38;5;21;01mre\u001b[39;00m\n\u001b[0;32m      5\u001b[0m api_key \u001b[38;5;241m=\u001b[39m os\u001b[38;5;241m.\u001b[39menviron[\u001b[38;5;124m\"\u001b[39m\u001b[38;5;124mMISTRAL_API_KEY\u001b[39m\u001b[38;5;124m\"\u001b[39m]\n",
      "\u001b[1;31mModuleNotFoundError\u001b[0m: No module named 'mistralai'"
     ]
    }
   ],
   "source": [
    "import os\n",
    "from mistralai import Mistral\n",
    "import re\n",
    "\n",
    "api_key = os.environ[\"j9BzEXRhSmEdQjf9VNpjYrLlrCR73hge\"]\n",
    "\n",
    "client = Mistral(api_key=api_key)\n"
   ]
  },
  {
   "cell_type": "code",
   "execution_count": null,
   "metadata": {},
   "outputs": [],
   "source": [
    "agent_id= \"ag:8e2706f0:20240807:python-agent:ffdc79f8\""
   ]
  },
  {
   "cell_type": "code",
   "execution_count": null,
   "metadata": {},
   "outputs": [],
   "source": [
    "def run_python_agent(query):\n",
    "    \"\"\"\n",
    "    Sends a user query to a Python agent and returns the response.\n",
    "\n",
    "    Args:\n",
    "        query (str): The user query to be sent to the Python agent.\n",
    "\n",
    "    Returns:\n",
    "        str: The response content from the Python agent.\n",
    "    \"\"\"\n",
    "    print(\"### Run Python agent\")\n",
    "    print(f\"User query: {query}\")\n",
    "    try:\n",
    "        response = client.agents.complete(\n",
    "            agent_id= agent_id,\n",
    "            messages = [\n",
    "                {\n",
    "                    \"role\": \"user\",\n",
    "                    \"content\":  query\n",
    "                },\n",
    "            ]\n",
    "        )\n",
    "        result = response.choices[0].message.content\n",
    "        return result\n",
    "    except Exception as e:\n",
    "        print(f\"Request failed: {e}. Please check your request.\")\n",
    "        return None\n",
    "\n",
    "def extract_pattern(text, pattern):\n",
    "    \"\"\"\n",
    "    Extracts a pattern from the given text.\n",
    "\n",
    "    Args:\n",
    "        text (str): The text to search within.\n",
    "        pattern (str): The regex pattern to search for.\n",
    "\n",
    "    Returns:\n",
    "        str: The extracted pattern or None if not found.\n",
    "    \"\"\"\n",
    "    match = re.search(pattern, text, flags=re.DOTALL)\n",
    "    if match:\n",
    "        return match.group(1).strip()\n",
    "    return None\n",
    "\n",
    "def extract_code(result):\n",
    "    \"\"\"\n",
    "    Extracts Python function and test case from the response content.\n",
    "\n",
    "    Args:\n",
    "        result (str): The response content from the Python agent.\n",
    "\n",
    "    Returns:\n",
    "        tuple: A tuple containing the extracted Python function, test function, and a retry flag.\n",
    "    \"\"\"\n",
    "    retry = False\n",
    "    print(\"### Extracting Python code\")\n",
    "    python_function = extract_pattern(result, r'## Python function(.*?)## Test case')\n",
    "    if not python_function:\n",
    "        retry = True\n",
    "        print(\"Python function failed to generate or wrong output format. Setting retry to True.\")\n",
    "\n",
    "    print(\"### Extracting test case\")\n",
    "    test_function = extract_pattern(result, r'## Test case(.*?)```')\n",
    "    if not test_function:\n",
    "        retry = True\n",
    "        print(\"Test function failed to generate or wrong output format. Setting retry to True.\")\n",
    "\n",
    "    return python_function, test_function, retry\n",
    "\n",
    "def check_code(python_function, test_function):\n",
    "    \"\"\"\n",
    "    Executes the Python function and its test case, and checks for any errors.\n",
    "\n",
    "    Args:\n",
    "        python_function (str): The Python function to be executed.\n",
    "        test_function (str): The test case to be executed.\n",
    "\n",
    "    Returns:\n",
    "        bool: A flag indicating whether the code execution needs to be retried.\n",
    "\n",
    "    Warning:\n",
    "        This code is designed to run code that’s been generated by a model, which may not be entirely reliable.\n",
    "        It's strongly recommended to run this in a sandbox environment.\n",
    "    \"\"\"\n",
    "    retry = False\n",
    "    try:\n",
    "        exec(python_function)\n",
    "        print(\"Code executed successfully.\")\n",
    "        try:\n",
    "            exec(test_function)\n",
    "            print(\"Code passed test case.\")\n",
    "        except Exception:\n",
    "            print(f\"Test failed\")\n",
    "            retry = True\n",
    "            print(\"Setting retry to True\")\n",
    "    except Exception:\n",
    "        print(f\"Code failed.\")\n",
    "        retry = True\n",
    "        print(\"Setting retry to True\")\n",
    "    return retry\n",
    "\n",
    "def run_workflow(query):\n",
    "    \"\"\"\n",
    "    Runs the complete workflow to generate, extract, and validate Python code.\n",
    "\n",
    "    Args:\n",
    "        query (str): The user query to be processed.\n",
    "    \"\"\"\n",
    "    print(\"### ENTER WORKFLOW\")\n",
    "    i = 0\n",
    "    max_retries = 3\n",
    "    retry = True # just to get it started\n",
    "    while i < max_retries and retry:\n",
    "        print(f\"TRY # {i}\")\n",
    "        i += 1\n",
    "        result = run_python_agent(query)\n",
    "        python_function, test_function, retry = extract_code(result)\n",
    "        retry = check_code(python_function, test_function)\n",
    "\n",
    "    if not retry:\n",
    "        print(f\"Validated Python function: ```{python_function}```\")\n",
    "    print(\"### EXIT WORKFLOW\")\n",
    "\n"
   ]
  },
  {
   "cell_type": "code",
   "execution_count": null,
   "metadata": {},
   "outputs": [],
   "source": [
    "run_workflow(\"How can I remove duplicates from a list\")"
   ]
  }
 ],
 "metadata": {
  "kernelspec": {
   "display_name": "venv",
   "language": "python",
   "name": "python3"
  },
  "language_info": {
   "codemirror_mode": {
    "name": "ipython",
    "version": 3
   },
   "file_extension": ".py",
   "mimetype": "text/x-python",
   "name": "python",
   "nbconvert_exporter": "python",
   "pygments_lexer": "ipython3",
   "version": "3.11.4"
  }
 },
 "nbformat": 4,
 "nbformat_minor": 2
}
